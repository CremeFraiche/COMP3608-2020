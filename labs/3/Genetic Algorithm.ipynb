{
 "cells": [
  {
   "cell_type": "code",
   "execution_count": 1,
   "metadata": {},
   "outputs": [],
   "source": [
    "%load_ext autoreload\n",
    "%autoreload 2"
   ]
  },
  {
   "cell_type": "code",
   "execution_count": 2,
   "metadata": {},
   "outputs": [
    {
     "name": "stdout",
     "output_type": "stream",
     "text": [
      "Populating the interactive namespace from numpy and matplotlib\n"
     ]
    }
   ],
   "source": [
    "%pylab inline\n",
    "import numpy as np \n",
    "import crossover\n",
    "import selection"
   ]
  },
  {
   "cell_type": "markdown",
   "metadata": {},
   "source": [
    "## Using the Genetic Algorithm\n",
    "\n",
    "Following the No Free Lunch Theorem, we should know that sometimes, we do not know the best method to use a-priori. However, a general rule of thumb is that the Genetic Algorithm is useful for problems where we have few feasible design points where the feasible region is scattered about the domain of our cost or objective function. An example of such a problem is the 0/1 Knapsack problem. \n",
    "\n",
    "In the 0/1 Knapsack problem we envision a thief breaking into a musuem to steal artifacts. They are wearing a single knapsack that they plan to use to carry out of all of the artifacts they are attempting to steal. They know the value of each artifact in the musuem, and want to steal the most profitable combination of artifacts that they can fit into their knapsack. While this may seem a sort of sordid problem, the general mathematical formulation of the 0/1 Knapasck problem is applicable to many different types of problems. As it turns out the 0/1 Knapsack problem is NP Complete - meaning it is among the hardest problems in the computational class NP. There exists a psuedopolynomial time dynamic programming algorithm to solve it, and several greedy approximation strategies, but today we will see how the genetic algorithm can help us solve it"
   ]
  },
  {
   "cell_type": "markdown",
   "metadata": {},
   "source": [
    "### Mathematical formulation\n",
    "\n",
    "Let's formulate the 0/1 Knapsack problem a bit. We have items labeled $1, 2, \\cdots, n$ with profit values encoded in a vector $p$ where $p_i$ is the value of item $i$, and weights encoded in a vector $w$ where $w_i$ is the weight of item $i$. We have a knapsack of capacity $C \\in \\mathbb{Z}$. For item $i$, we encode the decision to take it in $x_i \\in \\{0, 1\\}$ which is a component of a vector $x$. The 0/1 Knapsack problem can be formalised as follows:\n",
    "\n",
    "$$\\max_{x} p^{T}x$$\n",
    "subject to \n",
    "$$w^{T}x \\leq C$$\n",
    "$$\\forall i \\in \\{1, 2, \\cdots, n\\}, x_{i} \\in \\{0, 1\\}$$"
   ]
  },
  {
   "cell_type": "markdown",
   "metadata": {},
   "source": [
    "### Genetic Operators\n",
    "Given the formulation we need to choose our genetic operators and representation scheme. \n",
    "First, lets choose our representation scheme as all other decisions we make are contingent on it. Since we have to make a finite number of yes (1)/no (0) decisions, we can use a bit-array as our representation for a chromosome.\n",
    "\n",
    "Mutation is simple, we simply randomly choose a point and flip the value.\n",
    "\n",
    "For crossover, we can choose any one of single-point, multiple-point, or uniform crossovers. Interpolation would not work as our design points are in a discrete rather than a continuous space. \n",
    "\n",
    "For selection methodology, we can use any methodology, but in practice, Roulette Wheel tends to perform best with such cases.\n",
    "\n",
    "Our fitness function is a little tricky. If a chromosome is in violation of the specification, we can either set fitness to 0 and eradicate from our population, or we can simply penalise the solution. The later is simplier in this case, so we will try that.\n",
    "\n",
    "We need to choose hyperparamters as well: let $k = 100, e = 5, p_c = 0.8, p_m = 0.05$"
   ]
  },
  {
   "cell_type": "code",
   "execution_count": 104,
   "metadata": {},
   "outputs": [],
   "source": [
    "## Let's store the data for the problem\n",
    "n = 100\n",
    "p = np.random.randint(5, 8, size=n)\n",
    "w = np.random.randint(10, 45, size=n)\n",
    "C = 365\n",
    "\n",
    "## Store hyperparamters:\n",
    "p_c = 0.8\n",
    "p_m = 0.1\n",
    "k = 100\n",
    "e = 5\n",
    "num_iter = 100\n",
    "\n",
    "convergence_curve = []"
   ]
  },
  {
   "cell_type": "code",
   "execution_count": 105,
   "metadata": {},
   "outputs": [],
   "source": [
    "def compute_penalty(x):\n",
    "    total_weight = np.dot(w, x)\n",
    "    penalty = np.maximum(0, -C + total_weight)\n",
    "    return penalty\n",
    "    \n",
    "def fitness(x):\n",
    "    profit = np.dot(p, x)\n",
    "    penalty = compute_penalty(x) # we apply a penalty for how much extra weight above capacity a solution incurs\n",
    "    return profit - penalty\n",
    "\n",
    "def mutate(x):\n",
    "    point = np.random.randint(1, len(x))\n",
    "    x[point] = 1 - x[point]\n",
    "    return x"
   ]
  },
  {
   "cell_type": "code",
   "execution_count": 106,
   "metadata": {},
   "outputs": [],
   "source": [
    "population = np.random.randint(0, 2, size=(k, n))\n",
    "fitnesses = np.array([fitness(x) for x in population])\n",
    "selector = selection.RouletteWheelSelector()"
   ]
  },
  {
   "cell_type": "code",
   "execution_count": 107,
   "metadata": {},
   "outputs": [],
   "source": [
    "for i in range(num_iter):\n",
    "    convergence_curve.append(max(fitnesses))\n",
    "    new_population = selection.elitism(e, population, fitnesses)\n",
    "    selector.prep_selector(fitnesses)\n",
    "    while len(new_population) < k:\n",
    "        parent1, parent2 = selector.select(population)\n",
    "        perform_crossover = np.random.random() <= p_c\n",
    "        if perform_crossover:\n",
    "            child = crossover.single_point(parent1, parent2)\n",
    "            perform_mutation = np.random.random() <= p_m\n",
    "            if perform_mutation:\n",
    "                child = mutate(child)\n",
    "            new_population = np.append(new_population, [child], axis=0)\n",
    "    population = new_population\n",
    "    fitnesses = np.array([fitness(x) for x in population])"
   ]
  },
  {
   "cell_type": "code",
   "execution_count": 108,
   "metadata": {},
   "outputs": [],
   "source": [
    "best = selection.elitism(1, population, fitnesses)[0]"
   ]
  },
  {
   "cell_type": "code",
   "execution_count": 109,
   "metadata": {},
   "outputs": [
    {
     "data": {
      "text/plain": [
       "array([1, 1, 0, 0, 0, 0, 0, 0, 0, 0, 0, 0, 0, 0, 0, 0, 0, 0, 0, 0, 1, 0,\n",
       "       0, 0, 0, 0, 0, 0, 0, 1, 0, 0, 1, 0, 0, 0, 0, 1, 0, 0, 0, 1, 1, 0,\n",
       "       0, 0, 0, 0, 0, 0, 0, 0, 0, 0, 0, 0, 0, 0, 0, 0, 0, 0, 0, 0, 0, 0,\n",
       "       1, 0, 0, 0, 0, 1, 1, 0, 0, 1, 0, 0, 0, 0, 0, 1, 1, 1, 0, 0, 0, 0,\n",
       "       0, 1, 0, 0, 0, 1, 0, 0, 0, 1, 0, 1])"
      ]
     },
     "execution_count": 109,
     "metadata": {},
     "output_type": "execute_result"
    }
   ],
   "source": [
    "best"
   ]
  },
  {
   "cell_type": "code",
   "execution_count": 110,
   "metadata": {},
   "outputs": [
    {
     "data": {
      "text/plain": [
       "123"
      ]
     },
     "execution_count": 110,
     "metadata": {},
     "output_type": "execute_result"
    }
   ],
   "source": [
    "fitness(best)"
   ]
  },
  {
   "cell_type": "code",
   "execution_count": 111,
   "metadata": {},
   "outputs": [
    {
     "data": {
      "text/plain": [
       "0"
      ]
     },
     "execution_count": 111,
     "metadata": {},
     "output_type": "execute_result"
    }
   ],
   "source": [
    "compute_penalty(best)"
   ]
  },
  {
   "cell_type": "code",
   "execution_count": 112,
   "metadata": {},
   "outputs": [
    {
     "data": {
      "text/plain": [
       "[<matplotlib.lines.Line2D at 0x11ede90d0>]"
      ]
     },
     "execution_count": 112,
     "metadata": {},
     "output_type": "execute_result"
    },
    {
     "data": {
      "image/png": "[encoded data removed]",
      "text/plain": [
       "<Figure size 432x288 with 1 Axes>"
      ]
     },
     "metadata": {
      "needs_background": "light"
     },
     "output_type": "display_data"
    }
   ],
   "source": [
    "plot(list(range(len(convergence_curve))), convergence_curve)"
   ]
  },
  {
   "cell_type": "markdown",
   "metadata": {},
   "source": [
    "Plotting a curve of objective function value vs iteration gives us a sense as to how well the algorithm is performing"
   ]
  },
  {
   "cell_type": "code",
   "execution_count": null,
   "metadata": {},
   "outputs": [],
   "source": []
  }
 ],
 "metadata": {
  "kernelspec": {
   "display_name": "Python 3",
   "language": "python",
   "name": "python3"
  },
  "language_info": {
   "codemirror_mode": {
    "name": "ipython",
    "version": 3
   },
   "file_extension": ".py",
   "mimetype": "text/x-python",
   "name": "python",
   "nbconvert_exporter": "python",
   "pygments_lexer": "ipython3",
   "version": "3.7.4"
  }
 },
 "nbformat": 4,
 "nbformat_minor": 4
}
