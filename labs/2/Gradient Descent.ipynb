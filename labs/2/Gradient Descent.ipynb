{
 "cells": [
  {
   "cell_type": "markdown",
   "metadata": {},
   "source": [
    "# Gradient Descent\n",
    "\n",
    "Gradient Descent is an important iterative 1st order optimization technique that was initially conceived for use in minimising convex functions without constraints.\n",
    "\n",
    "In this lab, we will look at the use of gradient descent using PyTorch. You will also get practice tracing through instances of gradient descent by hand"
   ]
  },
  {
   "cell_type": "markdown",
   "metadata": {},
   "source": [
    "## Automatic Differentiaion\n",
    "\n",
    "There are three main ways to compute derivatives:\n",
    "1. Symbolically - by using algebraic rules to generate or derive the derivative\n",
    "2. Numerically - using calculations to approximate the derivative at a point\n",
    "3. Automatically - using the structure of code used to implement a function to derive its gradient\n",
    "\n",
    "Most machine learning techniques use automatic differentiaion to help ease implementation. Automatic differentation works by assebling a computation graph. For example, the function $f(x) = x_1 + x_2$ may be represented by the following computation graph:\n",
    "\n",
    "![Simple Computation Graph](img/compgraph1.png)"
   ]
  },
  {
   "cell_type": "markdown",
   "metadata": {},
   "source": [
    "## PyTorch\n",
    "PyTorch is a library for tensor manipulation and automatic differentiation. There are some vital concepts from PyTorch that we will use throughout the course:\n",
    "1. tensor - the primary means of storing data for tensor manipulation in Pytorch\n",
    "2. parameter - these are \"trainable\" tensors that can gave gradients that can be passed to an optimizer\n",
    "3. model - used to represent a sequence of operations on paramters and input\n",
    "4. optimizer - an algorithm that is used to train paramters based on their gradient with respect to some loss function"
   ]
  },
  {
   "cell_type": "markdown",
   "metadata": {},
   "source": [
    "### Example\n",
    "\n",
    "Consider the function $f(x) = 2x^2 + 3x - 4$. Suppose that we wish to minimize this function. Our parameter here will be our $x$, and our loss is $f$. We have several way of abstracting this in accord with PyTorch's facilities and standards. What we will see is but one way of doing so"
   ]
  },
  {
   "cell_type": "code",
   "execution_count": 71,
   "metadata": {},
   "outputs": [
    {
     "name": "stdout",
     "output_type": "stream",
     "text": [
      "Populating the interactive namespace from numpy and matplotlib\n"
     ]
    }
   ],
   "source": [
    "%pylab inline\n",
    "import torch as th\n",
    "import torch.optim as optim\n",
    "import torch.nn as nn\n",
    "import numpy as np\n",
    "\n",
    "def plot_loss_curve(loss_curve):\n",
    "    plt.plot(list(range(len(loss_curve))), loss_curve)\n"
   ]
  },
  {
   "cell_type": "code",
   "execution_count": 77,
   "metadata": {},
   "outputs": [],
   "source": [
    "# set up model with parameter and loss function\n",
    "\n",
    "def f(x):\n",
    "    return 2 * x * x + 3 * x - 4\n",
    "    \n",
    "\n",
    "class MyModel(nn.Module):\n",
    "    def __init__(self):\n",
    "        super().__init__()\n",
    "        x = th.tensor(np.random.random()) # generate random point\n",
    "        self.x = nn.Parameter(x)\n",
    "    \n",
    "    def loss(self):\n",
    "        return f(self.x)"
   ]
  },
  {
   "cell_type": "code",
   "execution_count": 78,
   "metadata": {},
   "outputs": [
    {
     "name": "stdout",
     "output_type": "stream",
     "text": [
      "Our final x^* is  tensor(-0.7500)\n"
     ]
    }
   ],
   "source": [
    "model = MyModel() # model instance\n",
    "lr = 0.1 # our learning rate \n",
    "loss_curve = []\n",
    "optimizer = optim.SGD(model.parameters(), lr=lr)\n",
    "num_epochs = 100\n",
    "for epoch in range(num_epochs):\n",
    "    optimizer.zero_grad() # zero out gradients to prevent gradients from carrying over into other iterations\n",
    "    loss = model.loss() # compute loss\n",
    "    loss.backward() # compute gradient with respect to loss function\n",
    "    loss_curve.append(loss.item())\n",
    "    optimizer.step() # use gradient descent to adjust value of paramters in model\n",
    "\n",
    "print('Our final x^* is ', model.x.data)"
   ]
  },
  {
   "cell_type": "code",
   "execution_count": 79,
   "metadata": {},
   "outputs": [
    {
     "data": {
      "text/plain": [
       "Text(0.5, 1.0, 'Loss curve')"
      ]
     },
     "execution_count": 79,
     "metadata": {},
     "output_type": "execute_result"
    },
    {
     "data": {
      "image/png": "[encoded data removed]",
      "text/plain": [
       "<Figure size 432x288 with 1 Axes>"
      ]
     },
     "metadata": {
      "needs_background": "light"
     },
     "output_type": "display_data"
    }
   ],
   "source": [
    "plot_loss_curve(loss_curve)\n",
    "plt.xlabel('$i$')\n",
    "plt.ylabel('loss')\n",
    "plt.title('Loss curve')"
   ]
  },
  {
   "cell_type": "markdown",
   "metadata": {},
   "source": [
    "Our loss curve above can be ploted to show how the loss is decreasing per epoch"
   ]
  },
  {
   "cell_type": "markdown",
   "metadata": {},
   "source": [
    "### Multivariable case\n",
    "As mentioned in class, gradient descent is trivially extensible to multivariable, vector, and matrix settings once the output of the loss function is real scalar value.\n",
    "\n",
    "For an example, we shall first consider function $f(x, y) = (x^2 + y^2) + 4"
   ]
  },
  {
   "cell_type": "code",
   "execution_count": 80,
   "metadata": {},
   "outputs": [],
   "source": [
    "def loss_function(x, y):\n",
    "    return (x ** 2 + y ** 2) + 4\n",
    "\n",
    "\n",
    "class MyModel(nn.Module):\n",
    "    def __init__(self):\n",
    "        super().__init__()\n",
    "        x = th.tensor(np.random.random()) # generate x co-ordinate of random point\n",
    "        y = th.tensor(np.random.random()) # generate y co-ordinate of random point\n",
    "        self.x = nn.Parameter(x)\n",
    "        self.y = nn.Parameter(y)\n",
    "        \n",
    "    def loss(self):\n",
    "        return loss_function(self.x, self.y)"
   ]
  },
  {
   "cell_type": "code",
   "execution_count": 81,
   "metadata": {},
   "outputs": [
    {
     "name": "stdout",
     "output_type": "stream",
     "text": [
      "Our final x^* is  tensor(1.8336e-05)\n",
      "Our final y^* is  tensor(1.5753e-05)\n"
     ]
    }
   ],
   "source": [
    "model = MyModel() # model instance\n",
    "lr = 0.05 # our learning rate \n",
    "loss_curve = []\n",
    "optimizer = optim.SGD(model.parameters(), lr=lr)\n",
    "num_epochs = 100\n",
    "for epoch in range(num_epochs):\n",
    "    optimizer.zero_grad() # zero out gradients to prevent gradients from carrying over into other iterations\n",
    "    loss = model.loss() # compute loss\n",
    "    loss.backward() # compute gradient with respect to loss function\n",
    "    loss_curve.append(loss.item())\n",
    "    optimizer.step() # use gradient descent to adjust value of paramters in model\n",
    "\n",
    "print('Our final x^* is ', model.x.data)\n",
    "print('Our final y^* is ', model.y.data)"
   ]
  },
  {
   "cell_type": "code",
   "execution_count": 82,
   "metadata": {},
   "outputs": [
    {
     "data": {
      "image/png": "[encoded data removed]",
      "text/plain": [
       "<Figure size 432x288 with 1 Axes>"
      ]
     },
     "metadata": {
      "needs_background": "light"
     },
     "output_type": "display_data"
    }
   ],
   "source": [
    "plot_loss_curve(loss_curve)"
   ]
  },
  {
   "cell_type": "markdown",
   "metadata": {},
   "source": [
    "### Vector case\n",
    "\n",
    "Not the above function could have been written as $f(x) = (x_{1}^{2} + x_{2}^{2})^{2} + 4$. Instead of separating out the paramters into seperate variables, we could have kept together as a vector"
   ]
  },
  {
   "cell_type": "code",
   "execution_count": 89,
   "metadata": {},
   "outputs": [],
   "source": [
    "def loss_function(x):\n",
    "    return (x[0] ** 2 + x[1] ** 2) + 4\n",
    "\n",
    "\n",
    "class MyModel(nn.Module):\n",
    "    def __init__(self):\n",
    "        super().__init__()\n",
    "        x = th.tensor(np.random.random(2)) # generate random point\n",
    "        self.x = nn.Parameter(x)\n",
    "        \n",
    "    def loss(self):\n",
    "        return loss_function(self.x)\n",
    "    \n",
    "model = MyModel() # model instance\n",
    "lr = 0.05 # our learning rate \n",
    "loss_curve = []\n",
    "optimizer = optim.SGD(model.parameters(), lr=lr)\n",
    "num_epochs = 100\n",
    "for epoch in range(num_epochs):\n",
    "    optimizer.zero_grad() # zero out gradients to prevent gradients from carrying over into other iterations\n",
    "    loss = model.loss() # compute loss\n",
    "    loss.backward() # compute gradient with respect to loss function\n",
    "    loss_curve.append(loss.item())\n",
    "    optimizer.step() # use gradient descent to adjust value of paramters in model"
   ]
  },
  {
   "cell_type": "code",
   "execution_count": 90,
   "metadata": {},
   "outputs": [
    {
     "data": {
      "image/png": "[encoded data removed]",
      "text/plain": [
       "<Figure size 432x288 with 1 Axes>"
      ]
     },
     "metadata": {
      "needs_background": "light"
     },
     "output_type": "display_data"
    }
   ],
   "source": [
    "plot_loss_curve(loss_curve)"
   ]
  },
  {
   "cell_type": "code",
   "execution_count": 91,
   "metadata": {},
   "outputs": [
    {
     "name": "stdout",
     "output_type": "stream",
     "text": [
      "Our final x^* is  tensor([5.5343e-06, 6.1528e-06], dtype=torch.float64)\n"
     ]
    }
   ],
   "source": [
    "print('Our final x^* is ', model.x.data)"
   ]
  },
  {
   "cell_type": "markdown",
   "metadata": {},
   "source": [
    "## Excercises\n",
    "\n",
    "1. Write code to **maximize** the function $f(x) = -(x_{1}^{2} + x_{2}^{2} + x_{1}x_{2})^{2} - 4$. Hint recall that gradient descent minimizes functions. Recall from the lecture how we can transform minimization problems into maximization problems and vice versa.\n",
    "2. Trace through the following instances of gradient descent by hand for 2 epochs:\n",
    "    1. minimizing $f(x) =  x^3 - 2x + 4$, $x \\in \\mathbb{R}$ where $\\alpha = 0.1$, and you start at $x = -4$\n",
    "    2. minimizing $f(x) = (2-x_1)^{2}+10(x_2-x_{1}^{2})^{2}$, $x \\in \\mathbb{R}^{2}$, $\\alpha = 0.1$, and you start at $x = \\begin{bmatrix}1 \\\\ 1\\end{bmatrix}$"
   ]
  }
 ],
 "metadata": {
  "kernelspec": {
   "display_name": "Python 3",
   "language": "python",
   "name": "python3"
  },
  "language_info": {
   "codemirror_mode": {
    "name": "ipython",
    "version": 3
   },
   "file_extension": ".py",
   "mimetype": "text/x-python",
   "name": "python",
   "nbconvert_exporter": "python",
   "pygments_lexer": "ipython3",
   "version": "3.7.4"
  }
 },
 "nbformat": 4,
 "nbformat_minor": 4
}
